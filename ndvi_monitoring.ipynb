{
 "cells": [
  {
   "cell_type": "code",
   "execution_count": null,
   "metadata": {},
   "outputs": [],
   "source": [
    "import up42\n",
    "from getpass import getpass\n",
    "\n",
    "user_email = input(\"Please enter your email: \")\n",
    "pw = getpass()\n",
    "\n",
    "up42.authenticate(\n",
    "    username= user_email,\n",
    "    password= pw,\n",
    ")"
   ]
  },
  {
   "cell_type": "code",
   "execution_count": 1,
   "metadata": {},
   "outputs": [
    {
     "data": {
      "application/vnd.jupyter.widget-view+json": {
       "model_id": "44eb51793adc42ccaaf5f3f364e25da0",
       "version_major": 2,
       "version_minor": 0
      },
      "text/plain": [
       "Map(center=[-9.383746, -67.494271], controls=(ZoomControl(options=['position', 'zoom_in_text', 'zoom_in_title'…"
      ]
     },
     "metadata": {},
     "output_type": "display_data"
    }
   ],
   "source": [
    "from ipyleaflet import Map, DrawControl, TileLayer\n",
    "import geojson\n",
    "\n",
    "# Declare the the location of where the AOI will be drawn and create the map\n",
    "aoi_longlat = (-9.383746, -67.494271)\n",
    "m = Map(center=aoi_longlat, zoom=13)\n",
    "\n",
    "# Create the satellite layer by pulling it from Esri and add it to the map as a layer\n",
    "satellite_layer = TileLayer(\n",
    "    url=\"https://server.arcgisonline.com/ArcGIS/rest/services/World_Imagery/MapServer/tile/{z}/{y}/{x}\",\n",
    "    attribution=\"Sources: Esri, Maxar, GeoEye, Earthstar Geographics, CNES/Airbus DS, USDA, USGS, AeroGRID, IGN, and the GIS User Community\"\n",
    ")\n",
    "m.add_layer(satellite_layer)\n",
    "\n",
    "# Create the draw control and add it to the map\n",
    "draw_control = DrawControl()\n",
    "m.add_control(draw_control)\n",
    "\n",
    "# Create the drawn geojson as an empty variable which can then be written to\n",
    "drawn_geojson = None\n",
    "\n",
    "# Create function to tell the draw control to write the drawn geojson to the variable (globally)\n",
    "def handle_draw(target, action, geo_json):\n",
    "    global drawn_geojson\n",
    "    drawn_geojson = geojson.dumps(geo_json)\n",
    "\n",
    "draw_control.on_draw(handle_draw)\n",
    "\n",
    "display(m)"
   ]
  },
  {
   "cell_type": "code",
   "execution_count": 2,
   "metadata": {},
   "outputs": [],
   "source": [
    "# Write the drawn geojson to a file\n",
    "with open('amazonas_aoi.geojson', 'w') as f:\n",
    "    f.write(drawn_geojson)"
   ]
  }
 ],
 "metadata": {
  "kernelspec": {
   "display_name": "up42",
   "language": "python",
   "name": "python3"
  },
  "language_info": {
   "codemirror_mode": {
    "name": "ipython",
    "version": 3
   },
   "file_extension": ".py",
   "mimetype": "text/x-python",
   "name": "python",
   "nbconvert_exporter": "python",
   "pygments_lexer": "ipython3",
   "version": "3.10.13"
  }
 },
 "nbformat": 4,
 "nbformat_minor": 2
}
